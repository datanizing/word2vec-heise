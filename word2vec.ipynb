{
  "nbformat": 4,
  "nbformat_minor": 0,
  "metadata": {
    "kernelspec": {
      "display_name": "Python 3",
      "language": "python",
      "name": "python3"
    },
    "language_info": {
      "codemirror_mode": {
        "name": "ipython",
        "version": 3
      },
      "file_extension": ".py",
      "mimetype": "text/x-python",
      "name": "python",
      "nbconvert_exporter": "python",
      "pygments_lexer": "ipython3",
      "version": "3.8.5"
    },
    "varInspector": {
      "cols": {
        "lenName": 16,
        "lenType": 16,
        "lenVar": 40
      },
      "kernels_config": {
        "python": {
          "delete_cmd_postfix": "",
          "delete_cmd_prefix": "del ",
          "library": "var_list.py",
          "varRefreshCmd": "print(var_dic_list())"
        },
        "r": {
          "delete_cmd_postfix": ") ",
          "delete_cmd_prefix": "rm(",
          "library": "var_list.r",
          "varRefreshCmd": "cat(var_dic_list()) "
        }
      },
      "types_to_exclude": [
        "module",
        "function",
        "builtin_function_or_method",
        "instance",
        "_Feature"
      ],
      "window_display": false
    },
    "colab": {
      "name": "word2vec-ml-sonderheft.ipynb",
      "provenance": [],
      "collapsed_sections": []
    }
  },
  "cells": [
    {
      "cell_type": "markdown",
      "metadata": {
        "id": "Tmg4gKCiRRDx"
      },
      "source": [
        "# Statistik & QA"
      ]
    },
    {
      "cell_type": "code",
      "metadata": {
        "id": "ZQq9kAOHRRDz"
      },
      "source": [
        "import pandas as pd"
      ],
      "execution_count": null,
      "outputs": []
    },
    {
      "cell_type": "code",
      "metadata": {
        "id": "UsoLud0USPSa"
      },
      "source": [
        "!wget https://datanizing.com/heise/newsticker2019.csv"
      ],
      "execution_count": null,
      "outputs": []
    },
    {
      "cell_type": "code",
      "metadata": {
        "id": "YdF9rsmPRRD7"
      },
      "source": [
        "docs = pd.read_csv(\"newsticker2019.csv\", index_col=\"id\", parse_dates=[\"time\"])"
      ],
      "execution_count": null,
      "outputs": []
    },
    {
      "cell_type": "code",
      "metadata": {
        "id": "DpAIIJlRRRD_"
      },
      "source": [
        "docs"
      ],
      "execution_count": null,
      "outputs": []
    },
    {
      "cell_type": "code",
      "metadata": {
        "scrolled": false,
        "id": "NMW1jqQZRREE"
      },
      "source": [
        "docs.set_index(\"time\").resample(\"W\").agg({\"headline\": \"count\"}).plot()"
      ],
      "execution_count": null,
      "outputs": []
    },
    {
      "cell_type": "code",
      "metadata": {
        "id": "nslUe_WWRREK"
      },
      "source": [
        "import re\n",
        "docs[\"full_text\"] = docs[\"headline\"] + \" \" + docs[\"lead\"] + \" \" + docs[\"text\"]\n",
        "docs[\"simple_text\"] = docs[\"full_text\"].str.lower().replace(re.compile(\"[\\-,\\.\\!\\?\\:\\;\\\"\\+\\&\\'„“–\\(\\)\\[\\]]\"), \" \")\n",
        "[t[0:120] for t in docs[\"simple_text\"].values[0:10]]"
      ],
      "execution_count": null,
      "outputs": []
    },
    {
      "cell_type": "code",
      "metadata": {
        "id": "xPQ9hu3GRREO"
      },
      "source": [
        "apple = docs[docs[\"simple_text\"].str.contains(\"apple\")]\n",
        "len(apple)"
      ],
      "execution_count": null,
      "outputs": []
    },
    {
      "cell_type": "code",
      "metadata": {
        "id": "UwgFbxZURRES"
      },
      "source": [
        "[t[0:120] for t in apple[\"simple_text\"].values[10:30]]"
      ],
      "execution_count": null,
      "outputs": []
    },
    {
      "cell_type": "code",
      "metadata": {
        "id": "otubKcmARREX"
      },
      "source": [
        "apple.set_index(\"time\").resample(\"W\").agg({\"headline\": \"count\"}).plot()"
      ],
      "execution_count": null,
      "outputs": []
    },
    {
      "cell_type": "markdown",
      "metadata": {
        "id": "LdhhH8dCRREb"
      },
      "source": [
        "# Co-Occurrence"
      ]
    },
    {
      "cell_type": "code",
      "metadata": {
        "id": "bp0u3GZmRREc"
      },
      "source": [
        "from sklearn.feature_extraction.text import CountVectorizer\n",
        "cv = CountVectorizer()\n",
        "cv.fit_transform(docs[\"simple_text\"])"
      ],
      "execution_count": null,
      "outputs": []
    },
    {
      "cell_type": "code",
      "metadata": {
        "id": "jT_3FUi9RREe"
      },
      "source": [
        "cv = CountVectorizer(min_df=10, max_df=0.3)\n",
        "cv.fit_transform(docs[\"simple_text\"])"
      ],
      "execution_count": null,
      "outputs": []
    },
    {
      "cell_type": "code",
      "metadata": {
        "id": "HcSY3oxsRREh"
      },
      "source": [
        "from collections import Counter, defaultdict\n",
        "from tqdm import tqdm\n",
        "c = defaultdict(lambda: Counter())\n",
        "voc = cv.get_feature_names()\n",
        "window = 5 # sollte ungerade sein\n",
        "skip = (window - 1) // 2\n",
        "for doc in tqdm(docs[\"simple_text\"]):\n",
        "    tokens = doc.split(\" \")\n",
        "    for i, w in enumerate(tokens):\n",
        "        if w in voc:\n",
        "            for j in range(max(0, i-skip), i):\n",
        "                if tokens[j] in voc:\n",
        "                    c[w][tokens[j]] += 1\n",
        "            for j in range(i+1, min(i+1+skip, len(tokens))):\n",
        "                if tokens[j] in voc:\n",
        "                    c[w][tokens[j]] += 1"
      ],
      "execution_count": null,
      "outputs": []
    },
    {
      "cell_type": "code",
      "metadata": {
        "id": "wYbenE-IRREj"
      },
      "source": [
        "c[\"apple\"].most_common(10)"
      ],
      "execution_count": null,
      "outputs": []
    },
    {
      "cell_type": "code",
      "metadata": {
        "id": "Ff7KAHIkRREm"
      },
      "source": [
        "c[\"iphone\"].most_common(5)"
      ],
      "execution_count": null,
      "outputs": []
    },
    {
      "cell_type": "code",
      "metadata": {
        "id": "JIfhFl3mRREr"
      },
      "source": [
        "c[\"ipad\"].most_common(5)"
      ],
      "execution_count": null,
      "outputs": []
    },
    {
      "cell_type": "code",
      "metadata": {
        "id": "_SJxSZ9BRREw"
      },
      "source": [
        "c[\"macbook\"].most_common(5)"
      ],
      "execution_count": null,
      "outputs": []
    },
    {
      "cell_type": "markdown",
      "metadata": {
        "id": "zgkInKp8RRE0"
      },
      "source": [
        "# Embeddings"
      ]
    },
    {
      "cell_type": "code",
      "metadata": {
        "id": "rbXVErNQRRE0"
      },
      "source": [
        "texts = [t.split(\" \") for t in docs[\"simple_text\"]]"
      ],
      "execution_count": null,
      "outputs": []
    },
    {
      "cell_type": "markdown",
      "metadata": {
        "id": "P28O_h6hRRE4"
      },
      "source": [
        "## word2vec"
      ]
    },
    {
      "cell_type": "markdown",
      "metadata": {
        "id": "OjcywVoyRRE4"
      },
      "source": [
        "### Wörter"
      ]
    },
    {
      "cell_type": "code",
      "metadata": {
        "id": "4ZihLrlBRRE5"
      },
      "source": [
        "from gensim.models import Word2Vec"
      ],
      "execution_count": null,
      "outputs": []
    },
    {
      "cell_type": "code",
      "metadata": {
        "id": "2y6U0QJtRRE8"
      },
      "source": [
        "model_word = Word2Vec(texts, min_count=5, workers=8)"
      ],
      "execution_count": null,
      "outputs": []
    },
    {
      "cell_type": "code",
      "metadata": {
        "id": "MNSEtYAMRRE-"
      },
      "source": [
        "len(model_word.wv.vectors)"
      ],
      "execution_count": null,
      "outputs": []
    },
    {
      "cell_type": "code",
      "metadata": {
        "id": "LBIt5722RRFC"
      },
      "source": [
        "model_word.wv.most_similar(\"apple\")"
      ],
      "execution_count": null,
      "outputs": []
    },
    {
      "cell_type": "code",
      "metadata": {
        "id": "7MAc1Jf1RRFG"
      },
      "source": [
        "model_word.wv.most_similar(\"iphone\")"
      ],
      "execution_count": null,
      "outputs": []
    },
    {
      "cell_type": "code",
      "metadata": {
        "id": "LQGXMcMYRRFK"
      },
      "source": [
        "model_word.wv.most_similar(\"ipad\")"
      ],
      "execution_count": null,
      "outputs": []
    },
    {
      "cell_type": "code",
      "metadata": {
        "id": "xSAnSqQuRRFN"
      },
      "source": [
        "model_word.wv.most_similar(\"macbook\")"
      ],
      "execution_count": null,
      "outputs": []
    },
    {
      "cell_type": "code",
      "metadata": {
        "id": "aSnnWi8bRRFR"
      },
      "source": [
        "model_word.wv.doesnt_match([\"apple\", \"microsoft\", \"google\", \"siemens\"])"
      ],
      "execution_count": null,
      "outputs": []
    },
    {
      "cell_type": "code",
      "metadata": {
        "id": "AK_OS0AlRRFW"
      },
      "source": [
        "model_word.wv.doesnt_match([\"hund\", \"katze\", \"maus\", \"python\"])"
      ],
      "execution_count": null,
      "outputs": []
    },
    {
      "cell_type": "markdown",
      "metadata": {
        "id": "YfB2yqi2RRFZ"
      },
      "source": [
        "Apple - ? = Microsoft - Windows\n",
        "\n",
        "Apple - Microsoft + Windows = ?"
      ]
    },
    {
      "cell_type": "code",
      "metadata": {
        "id": "LvUYdIlDRRFa"
      },
      "source": [
        "model_word.wv.most_similar(positive=[\"apple\", \"windows\"], \n",
        "                                   negative=[\"microsoft\"],  topn=4)"
      ],
      "execution_count": null,
      "outputs": []
    },
    {
      "cell_type": "code",
      "metadata": {
        "id": "0A91pMxlRRFh"
      },
      "source": [
        "model_word.wv.most_similar(positive=[\"microsoft\", \"iphone\"],\n",
        "                            negative=[\"apple\"], topn=4)"
      ],
      "execution_count": null,
      "outputs": []
    },
    {
      "cell_type": "code",
      "metadata": {
        "id": "EE2O5Rq3RRFj"
      },
      "source": [
        "model_word.wv.most_similar(positive=[\"android\", \"apple\"],\n",
        "                            negative=[\"iphone\"], topn=4)"
      ],
      "execution_count": null,
      "outputs": []
    },
    {
      "cell_type": "markdown",
      "metadata": {
        "id": "DbaO7eY8RRFm"
      },
      "source": [
        "### Phrasen"
      ]
    },
    {
      "cell_type": "code",
      "metadata": {
        "id": "Iz6uSCbLRRFm"
      },
      "source": [
        "from gensim.models import Phrases"
      ],
      "execution_count": null,
      "outputs": []
    },
    {
      "cell_type": "code",
      "metadata": {
        "id": "Pc2TTFZQRRFp"
      },
      "source": [
        "entity_transformer = Phrases(texts)"
      ],
      "execution_count": null,
      "outputs": []
    },
    {
      "cell_type": "code",
      "metadata": {
        "id": "cbdVX5VtRRFs"
      },
      "source": [
        "model_phrase = Word2Vec(entity_transformer[texts], min_count=5, workers=8)"
      ],
      "execution_count": null,
      "outputs": []
    },
    {
      "cell_type": "code",
      "metadata": {
        "id": "cxyw32TBRRFu"
      },
      "source": [
        "model_phrase.wv.most_similar(\"apple\")"
      ],
      "execution_count": null,
      "outputs": []
    },
    {
      "cell_type": "code",
      "metadata": {
        "scrolled": true,
        "id": "V4Lfe9BORRFz"
      },
      "source": [
        "model_phrase.wv.most_similar(\"iphone\")"
      ],
      "execution_count": null,
      "outputs": []
    },
    {
      "cell_type": "code",
      "metadata": {
        "id": "fe2r5ClrRRF2"
      },
      "source": [
        "model_phrase.wv.most_similar(\"ipad\")"
      ],
      "execution_count": null,
      "outputs": []
    },
    {
      "cell_type": "code",
      "metadata": {
        "scrolled": true,
        "id": "1EbF24FXRRF4"
      },
      "source": [
        "model_phrase.wv.most_similar(\"macbook\")"
      ],
      "execution_count": null,
      "outputs": []
    },
    {
      "cell_type": "code",
      "metadata": {
        "id": "G8_HQcirRRF6"
      },
      "source": [
        "model_phrase.wv.doesnt_match([\"apple\", \"microsoft\", \"google\", \"siemens\"])"
      ],
      "execution_count": null,
      "outputs": []
    },
    {
      "cell_type": "code",
      "metadata": {
        "id": "0gRzUTAZRRF-"
      },
      "source": [
        "model_phrase.wv.doesnt_match([\"hund\", \"katze\", \"maus\", \"python\"])"
      ],
      "execution_count": null,
      "outputs": []
    },
    {
      "cell_type": "markdown",
      "metadata": {
        "id": "4a-_b32KRRGB"
      },
      "source": [
        "Apple - ? = Microsoft - Windows\n",
        "\n",
        "Apple - Microsoft + Windows = ?"
      ]
    },
    {
      "cell_type": "code",
      "metadata": {
        "id": "QY9rcleVRRGC"
      },
      "source": [
        "model_phrase.wv.most_similar(positive=[\"apple\", \"windows\"], \n",
        "                                   negative=[\"microsoft\"],  topn=10)"
      ],
      "execution_count": null,
      "outputs": []
    },
    {
      "cell_type": "markdown",
      "metadata": {
        "id": "XC44hfw-RRGE"
      },
      "source": [
        "## fastText"
      ]
    },
    {
      "cell_type": "code",
      "metadata": {
        "id": "9KnNNu1MRRGE"
      },
      "source": [
        "from gensim.models import FastText"
      ],
      "execution_count": null,
      "outputs": []
    },
    {
      "cell_type": "code",
      "metadata": {
        "id": "7j3GZuvHRRGK"
      },
      "source": [
        "model_fast = FastText(texts, min_count=5, workers=8)"
      ],
      "execution_count": null,
      "outputs": []
    },
    {
      "cell_type": "code",
      "metadata": {
        "id": "8xBWlZ-yRRGT"
      },
      "source": [
        "model_fast.wv.most_similar(\"apple\", topn=4)"
      ],
      "execution_count": null,
      "outputs": []
    },
    {
      "cell_type": "code",
      "metadata": {
        "id": "coXEz5a0RRGW"
      },
      "source": [
        "model_fast.wv.most_similar(\"iphone\")"
      ],
      "execution_count": null,
      "outputs": []
    },
    {
      "cell_type": "code",
      "metadata": {
        "id": "LHmfZFtQRRGa"
      },
      "source": [
        "model_fast.wv.most_similar(\"ipad\")"
      ],
      "execution_count": null,
      "outputs": []
    },
    {
      "cell_type": "code",
      "metadata": {
        "scrolled": true,
        "id": "B2ZXmBmoRRGe"
      },
      "source": [
        "model_fast.wv.most_similar(\"macbook\")"
      ],
      "execution_count": null,
      "outputs": []
    },
    {
      "cell_type": "code",
      "metadata": {
        "id": "cnGXwfr0RRGk"
      },
      "source": [
        "model_fast.wv.doesnt_match([\"apple\", \"microsoft\", \"google\", \"siemens\"])"
      ],
      "execution_count": null,
      "outputs": []
    },
    {
      "cell_type": "code",
      "metadata": {
        "id": "D0ObTjhNRRGn"
      },
      "source": [
        "model_fast.wv.doesnt_match([\"hund\", \"katze\", \"maus\", \"python\"])"
      ],
      "execution_count": null,
      "outputs": []
    },
    {
      "cell_type": "code",
      "metadata": {
        "id": "thHxhgyGRRGr"
      },
      "source": [
        "model_fast.wv.most_similar(positive=[\"google\", \"windows\"], \n",
        "                                   negative=[\"microsoft\"],  topn=10)"
      ],
      "execution_count": null,
      "outputs": []
    },
    {
      "cell_type": "markdown",
      "metadata": {
        "id": "-NaVth_lRRGu"
      },
      "source": [
        "## gloVe"
      ]
    },
    {
      "cell_type": "code",
      "metadata": {
        "id": "zbRWLXDSSvhL"
      },
      "source": [
        "!wget https://datanizing.com/heise/glove-w2v.txt"
      ],
      "execution_count": null,
      "outputs": []
    },
    {
      "cell_type": "code",
      "metadata": {
        "id": "2hUqV4JxRRG2"
      },
      "source": [
        "from gensim.models import KeyedVectors\n",
        "glove = KeyedVectors.load_word2vec_format(\"glove-w2v.txt\")"
      ],
      "execution_count": null,
      "outputs": []
    },
    {
      "cell_type": "code",
      "metadata": {
        "id": "l9pgFIL-RRG-"
      },
      "source": [
        "glove.most_similar(\"apple\", topn=4)"
      ],
      "execution_count": null,
      "outputs": []
    },
    {
      "cell_type": "code",
      "metadata": {
        "id": "lWoBhNYqRRHF"
      },
      "source": [
        "glove.most_similar(\"iphone\")"
      ],
      "execution_count": null,
      "outputs": []
    },
    {
      "cell_type": "code",
      "metadata": {
        "id": "4DCG7wQDRRHK"
      },
      "source": [
        "glove.most_similar(\"ipad\")"
      ],
      "execution_count": null,
      "outputs": []
    },
    {
      "cell_type": "code",
      "metadata": {
        "id": "3eYCED_vRRHT"
      },
      "source": [
        "glove.most_similar(\"macbook\")"
      ],
      "execution_count": null,
      "outputs": []
    },
    {
      "cell_type": "code",
      "metadata": {
        "id": "XEIdR-PCRRHY"
      },
      "source": [
        "glove.most_similar(positive=[\"apple\", \"windows\"], \n",
        "                                   negative=[\"microsoft\"],  topn=10)"
      ],
      "execution_count": null,
      "outputs": []
    },
    {
      "cell_type": "code",
      "metadata": {
        "id": "4SDALpNuRRHh"
      },
      "source": [
        "glove.most_similar(positive=[\"google\", \"iphone\"], \n",
        "                                   negative=[\"apple\"],  topn=10)"
      ],
      "execution_count": null,
      "outputs": []
    },
    {
      "cell_type": "code",
      "metadata": {
        "scrolled": true,
        "id": "86IxPhekRRHk"
      },
      "source": [
        "glove.doesnt_match([\"apple\", \"microsoft\", \"google\", \"siemens\"])"
      ],
      "execution_count": null,
      "outputs": []
    },
    {
      "cell_type": "code",
      "metadata": {
        "id": "cEPeimq_RRHp"
      },
      "source": [
        "glove.doesnt_match([\"hund\", \"katze\", \"maus\", \"python\"])"
      ],
      "execution_count": null,
      "outputs": []
    },
    {
      "cell_type": "markdown",
      "metadata": {
        "id": "NBM81jPMRRHu"
      },
      "source": [
        "# Anwendungen"
      ]
    },
    {
      "cell_type": "markdown",
      "metadata": {
        "id": "pIedkL01RRHu"
      },
      "source": [
        "## Semantischer Graph"
      ]
    },
    {
      "cell_type": "code",
      "metadata": {
        "id": "Ugd-8hz9RRHv"
      },
      "source": [
        "import networkx as nx\n",
        "\n",
        "G = nx.Graph()\n",
        "e = model_word.wv\n",
        "w0 = \"apple\"\n",
        "G.add_node(w0)\n",
        "for (w1, p1) in e.most_similar(w0, topn=5):\n",
        "    G.add_node(w1)\n",
        "    G.add_edge(w0, w1, weight=p1 )\n",
        "    for (w2, p2) in e.most_similar(w1, topn=5):\n",
        "        G.add_node(w2)\n",
        "        G.add_edge(w1, w2, weight=p2 )\n",
        "        for (w3, p3) in e.most_similar(w2, topn=5):\n",
        "            G.add_node(w3)\n",
        "            G.add_edge(w2, w3, weight=p3 )"
      ],
      "execution_count": null,
      "outputs": []
    },
    {
      "cell_type": "code",
      "metadata": {
        "id": "UoaQZzGbRRHy"
      },
      "source": [
        "import matplotlib.pyplot as plt\n",
        "plt.figure(figsize=(12,12))\n",
        "nx.draw(G, with_labels=True, pos=nx.spring_layout(G))"
      ],
      "execution_count": null,
      "outputs": []
    },
    {
      "cell_type": "code",
      "metadata": {
        "id": "DmDxQGhyRRH2"
      },
      "source": [
        "import networkx as nx\n",
        "\n",
        "G = nx.Graph()\n",
        "e = model_word.wv\n",
        "w0 = \"apple\"\n",
        "G.add_node(w0)\n",
        "for (w1, p1) in e.most_similar(w0, topn=10):\n",
        "    G.add_node(w1)\n",
        "    G.add_edge(w0, w1, weight=p1 )\n",
        "    for (w2, p2) in e.most_similar(w1, topn=10):\n",
        "        G.add_node(w2)\n",
        "        G.add_edge(w1, w2, weight=p2 )\n",
        "        for (w3, p3) in e.most_similar(w2, topn=10):\n",
        "            G.add_node(w3)\n",
        "            G.add_edge(w2, w3, weight=p3 )"
      ],
      "execution_count": null,
      "outputs": []
    },
    {
      "cell_type": "code",
      "metadata": {
        "id": "hFjWhVqKRRH5"
      },
      "source": [
        "nx.write_gexf(G, \"apple-w2v.gexf\")"
      ],
      "execution_count": null,
      "outputs": []
    },
    {
      "cell_type": "markdown",
      "metadata": {
        "id": "E8H8LtT8RRH7"
      },
      "source": [
        "## Semantische Karte"
      ]
    },
    {
      "cell_type": "code",
      "metadata": {
        "id": "2nNHzyT7RRH8"
      },
      "source": [
        "%matplotlib inline\n",
        "from sklearn.manifold import TSNE\n",
        "from sklearn.decomposition import PCA\n",
        "import matplotlib.pyplot as plt\n",
        "import umap.umap_ as umap \n"
      ],
      "execution_count": null,
      "outputs": []
    },
    {
      "cell_type": "code",
      "metadata": {
        "id": "6MfxHAnrRRH-"
      },
      "source": [
        "def plot_2d(vecs, labels, method, filename):\n",
        "    if method == \"tsne\":\n",
        "        tsne = TSNE(n_components=2, random_state=0).fit_transform(vecs)\n",
        "        df = pd.DataFrame(data = tsne, columns = [\"x\", \"y\"])\n",
        "    elif method == \"pca\":\n",
        "        pca = PCA(n_components=2, random_state=0).fit_transform(vecs.toarray())\n",
        "        df = pd.DataFrame(data = pca, columns = [\"x\", \"y\"])\n",
        "    else:\n",
        "        um = umap.UMAP(n_components=2, random_state=0).fit_transform(vecs)\n",
        "        df = pd.DataFrame(data = um, columns = [\"x\", \"y\"])\n",
        "    \n",
        "    plt.rcParams[\"figure.figsize\"] = (16, 9)\n",
        "    plt.style.use(\"seaborn-whitegrid\")\n",
        "    fig, ax = plt.subplots()\n",
        "    ax.scatter(df.x, df.y, marker=\"o\")\n",
        "\n",
        "    span = abs(max(df.x) - min(df.x))\n",
        "    diff = span/150.0\n",
        "    for i, txt in enumerate(labels):\n",
        "        fontsize = 10\n",
        "        ax.annotate(txt, (df.x[i]+diff, df.y[i]), fontsize=fontsize)\n",
        "    plt.xticks([], [])\n",
        "    plt.yticks([], [])\n",
        "    plt.savefig(f'{filename}.png')"
      ],
      "execution_count": null,
      "outputs": []
    },
    {
      "cell_type": "code",
      "metadata": {
        "id": "7Sh2JxuURRIA"
      },
      "source": [
        "words = [\"apple\", \"ipad\",  \"ios\", \"iphone\", \"xs\", \"xr\",\n",
        "         \"mac\", \"macbook\", \"air\", \"osx\", \"macos\",\n",
        "         \"android\", \"google\", \"samsung\", \"galaxy\", \n",
        "         \"huawei\", \"mate\", \"honor\", \"htc\", \"lg\", \n",
        "         \"windows\", \"microsoft\", \"surface\",\n",
        "         \"laptop\", \"notebook\", \"smartphone\", \"tablet\",\n",
        "         \"app\", \"store\", \"play\", \"music\", \"itunes\",\n",
        "         \"netflix\", \"disney\", \"spotify\", \"streaming\"\n",
        "         \"amazon\", \"facebook\" ]\n",
        "vecs = []\n",
        "labels = []\n",
        "\n",
        "text = model_word.wv\n",
        "for w in words:\n",
        "    if w in text:\n",
        "        vecs.append(text[w])\n",
        "        labels.append(w)\n",
        "\n",
        "plot_2d(vecs, labels, 'umap', \"apple\")"
      ],
      "execution_count": null,
      "outputs": []
    },
    {
      "cell_type": "code",
      "metadata": {
        "id": "53pXA8DfRRIB"
      },
      "source": [
        ""
      ],
      "execution_count": null,
      "outputs": []
    },
    {
      "cell_type": "code",
      "metadata": {
        "id": "oMd8mVOhRRID"
      },
      "source": [
        ""
      ],
      "execution_count": null,
      "outputs": []
    }
  ]
}