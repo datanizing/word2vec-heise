{
  "nbformat": 4,
  "nbformat_minor": 0,
  "metadata": {
    "kernelspec": {
      "display_name": "Python 3",
      "language": "python",
      "name": "python3"
    },
    "language_info": {
      "codemirror_mode": {
        "name": "ipython",
        "version": 3
      },
      "file_extension": ".py",
      "mimetype": "text/x-python",
      "name": "python",
      "nbconvert_exporter": "python",
      "pygments_lexer": "ipython3",
      "version": "3.8.5"
    },
    "varInspector": {
      "cols": {
        "lenName": 16,
        "lenType": 16,
        "lenVar": 40
      },
      "kernels_config": {
        "python": {
          "delete_cmd_postfix": "",
          "delete_cmd_prefix": "del ",
          "library": "var_list.py",
          "varRefreshCmd": "print(var_dic_list())"
        },
        "r": {
          "delete_cmd_postfix": ") ",
          "delete_cmd_prefix": "rm(",
          "library": "var_list.r",
          "varRefreshCmd": "cat(var_dic_list()) "
        }
      },
      "types_to_exclude": [
        "module",
        "function",
        "builtin_function_or_method",
        "instance",
        "_Feature"
      ],
      "window_display": false
    },
    "colab": {
      "name": "word2vec-ml-sonderheft.ipynb",
      "provenance": []
    }
  },
  "cells": [
    {
      "cell_type": "markdown",
      "metadata": {
        "id": "Tmg4gKCiRRDx"
      },
      "source": [
        "# Statistik & QA"
      ]
    },
    {
      "cell_type": "code",
      "metadata": {
        "id": "ZQq9kAOHRRDz"
      },
      "source": [
        "import pandas as pd"
      ],
      "execution_count": 1,
      "outputs": []
    },
    {
      "cell_type": "code",
      "metadata": {
        "id": "UsoLud0USPSa",
        "outputId": "a8b2a3ae-227c-49c1-f38d-3e312d0b1416",
        "colab": {
          "base_uri": "https://localhost:8080/",
          "height": 204
        }
      },
      "source": [
        "!wget https://datanizing.com/heise/newsticker2019.csv"
      ],
      "execution_count": 2,
      "outputs": [
        {
          "output_type": "stream",
          "text": [
            "--2020-10-27 18:19:58--  https://datanizing.com/heise/newsticker2019.csv\n",
            "Resolving datanizing.com (datanizing.com)... 37.221.195.1\n",
            "Connecting to datanizing.com (datanizing.com)|37.221.195.1|:443... connected.\n",
            "HTTP request sent, awaiting response... 200 OK\n",
            "Length: 33368578 (32M) [application/octet-stream]\n",
            "Saving to: ‘newsticker2019.csv’\n",
            "\n",
            "newsticker2019.csv  100%[===================>]  31.82M  8.22MB/s    in 4.4s    \n",
            "\n",
            "2020-10-27 18:20:04 (7.27 MB/s) - ‘newsticker2019.csv’ saved [33368578/33368578]\n",
            "\n"
          ],
          "name": "stdout"
        }
      ]
    },
    {
      "cell_type": "code",
      "metadata": {
        "id": "YdF9rsmPRRD7"
      },
      "source": [
        "docs = pd.read_csv(\"newsticker2019.csv\", index_col=\"id\", parse_dates=[\"time\"])"
      ],
      "execution_count": 3,
      "outputs": []
    },
    {
      "cell_type": "code",
      "metadata": {
        "id": "DpAIIJlRRRD_",
        "outputId": "901c0ab2-cbca-4677-9e80-e831dc279b2c",
        "colab": {
          "base_uri": "https://localhost:8080/",
          "height": 450
        }
      },
      "source": [
        "docs"
      ],
      "execution_count": 4,
      "outputs": [
        {
          "output_type": "execute_result",
          "data": {
            "text/html": [
              "<div>\n",
              "<style scoped>\n",
              "    .dataframe tbody tr th:only-of-type {\n",
              "        vertical-align: middle;\n",
              "    }\n",
              "\n",
              "    .dataframe tbody tr th {\n",
              "        vertical-align: top;\n",
              "    }\n",
              "\n",
              "    .dataframe thead th {\n",
              "        text-align: right;\n",
              "    }\n",
              "</style>\n",
              "<table border=\"1\" class=\"dataframe\">\n",
              "  <thead>\n",
              "    <tr style=\"text-align: right;\">\n",
              "      <th></th>\n",
              "      <th>headline</th>\n",
              "      <th>lead</th>\n",
              "      <th>text</th>\n",
              "      <th>time</th>\n",
              "    </tr>\n",
              "    <tr>\n",
              "      <th>id</th>\n",
              "      <th></th>\n",
              "      <th></th>\n",
              "      <th></th>\n",
              "      <th></th>\n",
              "    </tr>\n",
              "  </thead>\n",
              "  <tbody>\n",
              "    <tr>\n",
              "      <th>3723775</th>\n",
              "      <td>Niantic klagt gegen Betrug bei Pokémon GO</td>\n",
              "      <td>Alternative Apps für Pokemon GO und Ingress si...</td>\n",
              "      <td>\"Die beklage Partei Global++ ist ein Zusammens...</td>\n",
              "      <td>2019-06-18 12:17:00</td>\n",
              "    </tr>\n",
              "    <tr>\n",
              "      <th>4094233</th>\n",
              "      <td>Apple TV+: Start in der Türkei unklar</td>\n",
              "      <td>Die Einführung von Apple TV+ könnte in der Tür...</td>\n",
              "      <td>Vergangenen Montag stellte Tim Cook den neuen ...</td>\n",
              "      <td>2019-03-28 10:03:00</td>\n",
              "    </tr>\n",
              "    <tr>\n",
              "      <th>4178923</th>\n",
              "      <td>Radeon VII für den Spielermarkt abgespeckt</td>\n",
              "      <td>Nach der Vorstellung auf der CES sind weitere ...</td>\n",
              "      <td>Die Überraschung war nicht nur beim Publikum g...</td>\n",
              "      <td>2019-01-18 17:47:00</td>\n",
              "    </tr>\n",
              "    <tr>\n",
              "      <th>4190120</th>\n",
              "      <td>Bastelboards und steckbare 7-Segment-Anzeigen ...</td>\n",
              "      <td>Für Kurzentschlossene gibt es derzeit einiges ...</td>\n",
              "      <td>Jetzt aber schnell: Einige Kampagnen laufen ni...</td>\n",
              "      <td>2019-01-29 07:00:00</td>\n",
              "    </tr>\n",
              "    <tr>\n",
              "      <th>4240170</th>\n",
              "      <td>Werkstattberichte: Neues aus den Fablabs und d...</td>\n",
              "      <td>Wo entstehen neue Makerspaces, welche Termine ...</td>\n",
              "      <td>Über die Feiertage, den Chaos Communication Co...</td>\n",
              "      <td>2019-01-08 09:00:00</td>\n",
              "    </tr>\n",
              "    <tr>\n",
              "      <th>...</th>\n",
              "      <td>...</td>\n",
              "      <td>...</td>\n",
              "      <td>...</td>\n",
              "      <td>...</td>\n",
              "    </tr>\n",
              "    <tr>\n",
              "      <th>4624983</th>\n",
              "      <td>Amazon eröffnet Obdachlosenunterkunft – in sei...</td>\n",
              "      <td>Im Frühjahr 2020 soll die Unterkunft eröffnen,...</td>\n",
              "      <td>Die Hilfsorganisation Mary's Shelter will Anfa...</td>\n",
              "      <td>2019-12-31 14:23:00</td>\n",
              "    </tr>\n",
              "    <tr>\n",
              "      <th>4624993</th>\n",
              "      <td>E-Auto mit Solarmodulen Sion: Sono Motors verf...</td>\n",
              "      <td>Die 50 Millionen Euro als Ziel seines \"Communi...</td>\n",
              "      <td>32,5 Millionen Euro hat Sono Motors in seinem ...</td>\n",
              "      <td>2019-12-31 15:05:00</td>\n",
              "    </tr>\n",
              "    <tr>\n",
              "      <th>4625000</th>\n",
              "      <td>AKW Philippsburg 2 geht endgültig vom Netz</td>\n",
              "      <td>Mit Block 2 des Atomkraftwerks Philippsburg wi...</td>\n",
              "      <td>Nach 35 Jahren Betrieb geht am Dienstag in Phi...</td>\n",
              "      <td>2019-12-31 15:40:00</td>\n",
              "    </tr>\n",
              "    <tr>\n",
              "      <th>4625060</th>\n",
              "      <td>Guten Rutsch und ein frohes neues Jahr 2020!</td>\n",
              "      <td>Die Redaktionen der Heise Medien wünschen ein ...</td>\n",
              "      <td>Während draußen der Beginn des Jahres 2020 übe...</td>\n",
              "      <td>2019-12-31 17:56:00</td>\n",
              "    </tr>\n",
              "    <tr>\n",
              "      <th>4625063</th>\n",
              "      <td>36C3: Hackerkongress produziert mehr als 11 To...</td>\n",
              "      <td>Der CCC hat erstmals berechnet, wieviel Treibh...</td>\n",
              "      <td>Klimaschutz war neben IT-Sicherheit eines der ...</td>\n",
              "      <td>2019-12-31 16:58:00</td>\n",
              "    </tr>\n",
              "  </tbody>\n",
              "</table>\n",
              "<p>10077 rows × 4 columns</p>\n",
              "</div>"
            ],
            "text/plain": [
              "                                                  headline  ...                time\n",
              "id                                                          ...                    \n",
              "3723775          Niantic klagt gegen Betrug bei Pokémon GO  ... 2019-06-18 12:17:00\n",
              "4094233              Apple TV+: Start in der Türkei unklar  ... 2019-03-28 10:03:00\n",
              "4178923         Radeon VII für den Spielermarkt abgespeckt  ... 2019-01-18 17:47:00\n",
              "4190120  Bastelboards und steckbare 7-Segment-Anzeigen ...  ... 2019-01-29 07:00:00\n",
              "4240170  Werkstattberichte: Neues aus den Fablabs und d...  ... 2019-01-08 09:00:00\n",
              "...                                                    ...  ...                 ...\n",
              "4624983  Amazon eröffnet Obdachlosenunterkunft – in sei...  ... 2019-12-31 14:23:00\n",
              "4624993  E-Auto mit Solarmodulen Sion: Sono Motors verf...  ... 2019-12-31 15:05:00\n",
              "4625000         AKW Philippsburg 2 geht endgültig vom Netz  ... 2019-12-31 15:40:00\n",
              "4625060       Guten Rutsch und ein frohes neues Jahr 2020!  ... 2019-12-31 17:56:00\n",
              "4625063  36C3: Hackerkongress produziert mehr als 11 To...  ... 2019-12-31 16:58:00\n",
              "\n",
              "[10077 rows x 4 columns]"
            ]
          },
          "metadata": {
            "tags": []
          },
          "execution_count": 4
        }
      ]
    },
    {
      "cell_type": "code",
      "metadata": {
        "scrolled": false,
        "id": "NMW1jqQZRREE",
        "outputId": "f651cc22-3456-4913-ec24-32e06510b787",
        "colab": {
          "base_uri": "https://localhost:8080/",
          "height": 308
        }
      },
      "source": [
        "docs.set_index(\"time\").resample(\"W\").agg({\"headline\": \"count\"}).plot()"
      ],
      "execution_count": 5,
      "outputs": [
        {
          "output_type": "execute_result",
          "data": {
            "text/plain": [
              "<matplotlib.axes._subplots.AxesSubplot at 0x7fbda469e0f0>"
            ]
          },
          "metadata": {
            "tags": []
          },
          "execution_count": 5
        },
        {
          "output_type": "display_data",
          "data": {
            "image/png": "[encoded data removed]",
            "text/plain": [
              "<Figure size 432x288 with 1 Axes>"
            ]
          },
          "metadata": {
            "tags": [],
            "needs_background": "light"
          }
        }
      ]
    },
    {
      "cell_type": "code",
      "metadata": {
        "id": "nslUe_WWRREK",
        "outputId": "fc2ac804-6849-4f91-f493-7eaa0ecc7402",
        "colab": {
          "base_uri": "https://localhost:8080/",
          "height": 187
        }
      },
      "source": [
        "import re\n",
        "docs[\"full_text\"] = docs[\"headline\"] + \" \" + docs[\"lead\"] + \" \" + docs[\"text\"]\n",
        "docs[\"simple_text\"] = docs[\"full_text\"].str.lower().replace(re.compile(\"[\\-,\\.\\!\\?\\:\\;\\\"\\+\\&\\'„“–\\(\\)\\[\\]]\"), \" \")\n",
        "[t[0:120] for t in docs[\"simple_text\"].values[0:10]]"
      ],
      "execution_count": 6,
      "outputs": [
        {
          "output_type": "execute_result",
          "data": {
            "text/plain": [
              "['niantic klagt gegen betrug bei pokémon go alternative apps für pokemon go und ingress sind betreiber niantic ein dorn im',\n",
              " 'apple tv   start in der türkei unklar die einführung von apple tv  könnte in der türkei schwierig werden  denn dort ist ',\n",
              " 'radeon vii für den spielermarkt abgespeckt nach der vorstellung auf der ces sind weitere details zu amds kommender high ',\n",
              " 'bastelboards und steckbare 7 segment anzeigen   crowdfunding projekte für maker für kurzentschlossene gibt es derzeit ei',\n",
              " 'werkstattberichte  neues aus den fablabs und der makerszene wo entstehen neue makerspaces  welche termine stehen an und ',\n",
              " 'künstliche intelligenz in maker projekten nutzen um ki in eigenen projekten zu nutzen  muss man nicht selbst algorithmen',\n",
              " 'smart home  pi steuert funksteckdosen eine eigenbau lösung für die heimautomation lässt sich mit einem raspi und günstig',\n",
              " 'reingeschaut  mcdonald s wartenummern mit bluetooth beacon bei mcdonald s gibt es neuerdings wartenummern mit integriert',\n",
              " 'mit kryptowährungen abgezockt in sekunden  algorithmus gegen  pump and dump  aktionen auf krypto börsen können betrüger ',\n",
              " 'alibaba vs  google duplex  leistungsfähige sprachassistenten für logistiktochter mit duplex schien google neue maßstäbe ']"
            ]
          },
          "metadata": {
            "tags": []
          },
          "execution_count": 6
        }
      ]
    },
    {
      "cell_type": "code",
      "metadata": {
        "id": "xPQ9hu3GRREO",
        "outputId": "400941e1-6c05-4b6c-87a7-63339d743a76",
        "colab": {
          "base_uri": "https://localhost:8080/",
          "height": 34
        }
      },
      "source": [
        "apple = docs[docs[\"simple_text\"].str.contains(\"apple\")]\n",
        "len(apple)"
      ],
      "execution_count": 7,
      "outputs": [
        {
          "output_type": "execute_result",
          "data": {
            "text/plain": [
              "1327"
            ]
          },
          "metadata": {
            "tags": []
          },
          "execution_count": 7
        }
      ]
    },
    {
      "cell_type": "code",
      "metadata": {
        "id": "UwgFbxZURRES",
        "outputId": "54c5b062-665f-4ea9-ccc4-4c9e36f0b82b",
        "colab": {
          "base_uri": "https://localhost:8080/",
          "height": 357
        }
      },
      "source": [
        "[t[0:120] for t in apple[\"simple_text\"].values[10:30]]"
      ],
      "execution_count": 8,
      "outputs": [
        {
          "output_type": "execute_result",
          "data": {
            "text/plain": [
              "['apple erwägt iphone x produktion in indien neben älteren modellen könnten künftig auch topgeräte in indien entstehen   a',\n",
              " 'verbogenes ipad pro  apple sieht keinen grund zum handeln ein hardwaremanager hat gegenüber kunden betont  die tablets e',\n",
              " 'schlechte verkaufszahlen des iphone  apple senkt umsatzprognose der konzern hat seine prognose für das weihnachtsquartal',\n",
              " 'iphone krise  apple aktie bricht ein  cook spricht vor versammelter mannschaft apple aktionären steht ein übler tag bevo',\n",
              " 'iphone verkaufsverbot in deutschland tritt in kraft qualcomm setzt durch  dass apple bestimmte smartphone modelle nicht ',\n",
              " 'zur iphone krise  wie apple gegenhalten könnte der versuch  sinkende smartphone verkäufe durch höhere preise zu kompensi',\n",
              " 'ces 2019  faltphones  rollbare tvs und alles mit 5g die größten trends der wichtigsten technikmesse der welt  auf der ce',\n",
              " 'kurseinbruch  wall street korrigiert apple kursziel nach unten nach der umsatzwarnung reagieren die analysten und reduzi',\n",
              " '#tgiqf   das quiz  eine kleine microsoft geschichte microsoft ist weit mehr als windows  aber was wissen sie über die ge',\n",
              " 'samsung   2019 wird ein gutes jahr für smartphones  samsung möchte sich bei smartphones von der konkurrenz stärker abgre',\n",
              " 'apple will gute stimmung verbreiten  app store rekorde und iphone aktivierungshoch nach der umsatzwarnung versucht der k',\n",
              " 'tücken beim smartphone umzug beim handywechsel alle daten mitnehmen  klappt nicht  trotz umzugstools von android und ios',\n",
              " 'apple will iphone verkaufsverbot in deutschland kippen qualcomm hatte erreicht  das verschiedene ältere modelle nicht me',\n",
              " 'garageband ist 15 apples mittlerweile kostenlose musik app für einsteiger feiert einen runden geburtstag  2004 erschien ',\n",
              " 'otter browser umwirbt alte opera fans nach langen jahren ist der open source browser  der einst opera 12 beerben wollte ',\n",
              " 'amazon hat bisher 100 millionen alexa geräte verkauft selten gibt amazon verkaufszahlen zu seinen produkten preis  nun h',\n",
              " 'alle jahre wieder   alphabet spart weiter steuern in milliardenhöhe googles mutterkonzern hat 2017 über einen nicht mehr',\n",
              " 'einigung über westworld mobilspiel  bethesda lässt klage gegen warner fallen ein entwicklerstudio soll für das konkurren',\n",
              " 'auftakt des prozesses zwischen qualcomm und us wettbewerbshütern qualcomm soll seine kunden zur zahlung teurer patentliz',\n",
              " 'itunes inhalte und airplay 2 für samsung fernseher smart tvs von samsung sollen zu apple inhalten und dessen streaming p']"
            ]
          },
          "metadata": {
            "tags": []
          },
          "execution_count": 8
        }
      ]
    },
    {
      "cell_type": "code",
      "metadata": {
        "id": "otubKcmARREX",
        "outputId": "c026953b-b863-4400-a0ef-bc4bdb7682b9",
        "colab": {
          "base_uri": "https://localhost:8080/",
          "height": 308
        }
      },
      "source": [
        "apple.set_index(\"time\").resample(\"W\").agg({\"headline\": \"count\"}).plot()"
      ],
      "execution_count": 9,
      "outputs": [
        {
          "output_type": "execute_result",
          "data": {
            "text/plain": [
              "<matplotlib.axes._subplots.AxesSubplot at 0x7fbda337d7f0>"
            ]
          },
          "metadata": {
            "tags": []
          },
          "execution_count": 9
        },
        {
          "output_type": "display_data",
          "data": {
            "image/png": "[encoded data removed]",
            "text/plain": [
              "<Figure size 432x288 with 1 Axes>"
            ]
          },
          "metadata": {
            "tags": [],
            "needs_background": "light"
          }
        }
      ]
    },
    {
      "cell_type": "markdown",
      "metadata": {
        "id": "LdhhH8dCRREb"
      },
      "source": [
        "# Co-Occurrence"
      ]
    },
    {
      "cell_type": "code",
      "metadata": {
        "id": "bp0u3GZmRREc",
        "outputId": "07352ce5-fec4-4a9a-b1a2-fdbd3a3741b3",
        "colab": {
          "base_uri": "https://localhost:8080/",
          "height": 51
        }
      },
      "source": [
        "from sklearn.feature_extraction.text import CountVectorizer\n",
        "cv = CountVectorizer()\n",
        "cv.fit_transform(docs[\"simple_text\"])"
      ],
      "execution_count": 10,
      "outputs": [
        {
          "output_type": "execute_result",
          "data": {
            "text/plain": [
              "<10077x170437 sparse matrix of type '<class 'numpy.int64'>'\n",
              "\twith 2610720 stored elements in Compressed Sparse Row format>"
            ]
          },
          "metadata": {
            "tags": []
          },
          "execution_count": 10
        }
      ]
    },
    {
      "cell_type": "code",
      "metadata": {
        "id": "jT_3FUi9RREe",
        "outputId": "7a2f195a-4aa9-431b-d542-afc34aa67414",
        "colab": {
          "base_uri": "https://localhost:8080/",
          "height": 51
        }
      },
      "source": [
        "cv = CountVectorizer(min_df=10, max_df=0.3)\n",
        "cv.fit_transform(docs[\"simple_text\"])"
      ],
      "execution_count": 11,
      "outputs": [
        {
          "output_type": "execute_result",
          "data": {
            "text/plain": [
              "<10077x22026 sparse matrix of type '<class 'numpy.int64'>'\n",
              "\twith 1782259 stored elements in Compressed Sparse Row format>"
            ]
          },
          "metadata": {
            "tags": []
          },
          "execution_count": 11
        }
      ]
    },
    {
      "cell_type": "code",
      "metadata": {
        "id": "HcSY3oxsRREh",
        "outputId": "cdcd4cab-9550-4dfa-dbea-330b47eebfd0",
        "colab": {
          "base_uri": "https://localhost:8080/",
          "height": 34
        }
      },
      "source": [
        "from collections import Counter, defaultdict\n",
        "from tqdm import tqdm\n",
        "c = defaultdict(lambda: Counter())\n",
        "voc = cv.get_feature_names()\n",
        "window = 5 # sollte ungerade sein\n",
        "skip = (window - 1) // 2\n",
        "for doc in tqdm(docs[\"simple_text\"]):\n",
        "    tokens = doc.split(\" \")\n",
        "    for i, w in enumerate(tokens):\n",
        "        if w in voc:\n",
        "            for j in range(max(0, i-skip), i):\n",
        "                if tokens[j] in voc:\n",
        "                    c[w][tokens[j]] += 1\n",
        "            for j in range(i+1, min(i+1+skip, len(tokens))):\n",
        "                if tokens[j] in voc:\n",
        "                    c[w][tokens[j]] += 1"
      ],
      "execution_count": 12,
      "outputs": [
        {
          "output_type": "stream",
          "text": [
            "100%|██████████| 10077/10077 [1:09:52<00:00,  2.40it/s]\n"
          ],
          "name": "stderr"
        }
      ]
    },
    {
      "cell_type": "code",
      "metadata": {
        "id": "wYbenE-IRREj",
        "outputId": "302a92a5-4316-4598-ec7a-754287e1d497",
        "colab": {
          "base_uri": "https://localhost:8080/",
          "height": 187
        }
      },
      "source": [
        "c[\"apple\"].most_common(10)"
      ],
      "execution_count": 13,
      "outputs": [
        {
          "output_type": "execute_result",
          "data": {
            "text/plain": [
              "[('angebote', 1104),\n",
              " ('watch', 616),\n",
              " ('iphone', 588),\n",
              " ('tv', 390),\n",
              " ('pay', 325),\n",
              " ('series', 206),\n",
              " ('pro', 189),\n",
              " ('macbook', 164),\n",
              " ('ipad', 156),\n",
              " ('xr', 154)]"
            ]
          },
          "metadata": {
            "tags": []
          },
          "execution_count": 13
        }
      ]
    },
    {
      "cell_type": "code",
      "metadata": {
        "id": "Ff7KAHIkRREm",
        "outputId": "3f689daf-c375-4483-a60d-d7b17e8faac8",
        "colab": {
          "base_uri": "https://localhost:8080/",
          "height": 34
        }
      },
      "source": [
        "c[\"iphone\"].most_common(5)"
      ],
      "execution_count": 14,
      "outputs": [
        {
          "output_type": "execute_result",
          "data": {
            "text/plain": [
              "[('apple', 588), ('11', 523), ('iphone', 422), ('xr', 397), ('xs', 332)]"
            ]
          },
          "metadata": {
            "tags": []
          },
          "execution_count": 14
        }
      ]
    },
    {
      "cell_type": "code",
      "metadata": {
        "id": "JIfhFl3mRREr",
        "outputId": "7573793d-9589-47d0-8a70-1bf2ecc35b61",
        "colab": {
          "base_uri": "https://localhost:8080/",
          "height": 34
        }
      },
      "source": [
        "c[\"ipad\"].most_common(5)"
      ],
      "execution_count": 15,
      "outputs": [
        {
          "output_type": "execute_result",
          "data": {
            "text/plain": [
              "[('iphone', 261), ('pro', 259), ('apple', 156), ('air', 108), ('mini', 104)]"
            ]
          },
          "metadata": {
            "tags": []
          },
          "execution_count": 15
        }
      ]
    },
    {
      "cell_type": "code",
      "metadata": {
        "id": "_SJxSZ9BRREw",
        "outputId": "2abd1d62-8982-418f-f031-3d748359971e",
        "colab": {
          "base_uri": "https://localhost:8080/",
          "height": 34
        }
      },
      "source": [
        "c[\"macbook\"].most_common(5)"
      ],
      "execution_count": 16,
      "outputs": [
        {
          "output_type": "execute_result",
          "data": {
            "text/plain": [
              "[('pro', 300), ('air', 248), ('apple', 164), ('space', 67), ('13', 63)]"
            ]
          },
          "metadata": {
            "tags": []
          },
          "execution_count": 16
        }
      ]
    },
    {
      "cell_type": "markdown",
      "metadata": {
        "id": "zgkInKp8RRE0"
      },
      "source": [
        "# Embeddings"
      ]
    },
    {
      "cell_type": "code",
      "metadata": {
        "id": "rbXVErNQRRE0"
      },
      "source": [
        "texts = [t.split(\" \") for t in docs[\"simple_text\"]]"
      ],
      "execution_count": 17,
      "outputs": []
    },
    {
      "cell_type": "markdown",
      "metadata": {
        "id": "P28O_h6hRRE4"
      },
      "source": [
        "## word2vec"
      ]
    },
    {
      "cell_type": "markdown",
      "metadata": {
        "id": "OjcywVoyRRE4"
      },
      "source": [
        "### Wörter"
      ]
    },
    {
      "cell_type": "code",
      "metadata": {
        "id": "4ZihLrlBRRE5"
      },
      "source": [
        "from gensim.models import Word2Vec"
      ],
      "execution_count": 18,
      "outputs": []
    },
    {
      "cell_type": "code",
      "metadata": {
        "id": "2y6U0QJtRRE8"
      },
      "source": [
        "model_word = Word2Vec(texts, min_count=5, workers=8)"
      ],
      "execution_count": 19,
      "outputs": []
    },
    {
      "cell_type": "code",
      "metadata": {
        "id": "MNSEtYAMRRE-",
        "outputId": "f4802f9f-55a3-4425-d052-2b7793475fcf",
        "colab": {
          "base_uri": "https://localhost:8080/",
          "height": 34
        }
      },
      "source": [
        "len(model_word.wv.vectors)"
      ],
      "execution_count": 20,
      "outputs": [
        {
          "output_type": "execute_result",
          "data": {
            "text/plain": [
              "43665"
            ]
          },
          "metadata": {
            "tags": []
          },
          "execution_count": 20
        }
      ]
    },
    {
      "cell_type": "code",
      "metadata": {
        "id": "LBIt5722RRFC",
        "outputId": "f3b782e2-bb70-480d-b7be-ebaa6edcbfcb",
        "colab": {
          "base_uri": "https://localhost:8080/",
          "height": 241
        }
      },
      "source": [
        "model_word.wv.most_similar(\"apple\")"
      ],
      "execution_count": 21,
      "outputs": [
        {
          "output_type": "stream",
          "text": [
            "/usr/local/lib/python3.6/dist-packages/gensim/matutils.py:737: FutureWarning: Conversion of the second argument of issubdtype from `int` to `np.signedinteger` is deprecated. In future, it will be treated as `np.int64 == np.dtype(int).type`.\n",
            "  if np.issubdtype(vec.dtype, np.int):\n"
          ],
          "name": "stderr"
        },
        {
          "output_type": "execute_result",
          "data": {
            "text/plain": [
              "[('apples', 0.8140634298324585),\n",
              " ('swatch', 0.7276209592819214),\n",
              " ('iphone', 0.6934888362884521),\n",
              " ('konzern', 0.6553730368614197),\n",
              " ('w7', 0.6265036463737488),\n",
              " ('spotify', 0.6033220887184143),\n",
              " ('rakuten', 0.5937657952308655),\n",
              " ('ipad', 0.576071560382843),\n",
              " ('app', 0.5705763101577759),\n",
              " ('dogs', 0.5661699771881104)]"
            ]
          },
          "metadata": {
            "tags": []
          },
          "execution_count": 21
        }
      ]
    },
    {
      "cell_type": "code",
      "metadata": {
        "id": "7MAc1Jf1RRFG",
        "outputId": "81e7aa39-09f9-48fa-ea4d-d3c4392a0f8d",
        "colab": {
          "base_uri": "https://localhost:8080/",
          "height": 241
        }
      },
      "source": [
        "model_word.wv.most_similar(\"iphone\")"
      ],
      "execution_count": 22,
      "outputs": [
        {
          "output_type": "stream",
          "text": [
            "/usr/local/lib/python3.6/dist-packages/gensim/matutils.py:737: FutureWarning: Conversion of the second argument of issubdtype from `int` to `np.signedinteger` is deprecated. In future, it will be treated as `np.int64 == np.dtype(int).type`.\n",
            "  if np.issubdtype(vec.dtype, np.int):\n"
          ],
          "name": "stderr"
        },
        {
          "output_type": "execute_result",
          "data": {
            "text/plain": [
              "[('ipad', 0.7772069573402405),\n",
              " ('iphones', 0.7156007289886475),\n",
              " ('apple', 0.6934888958930969),\n",
              " ('macbook', 0.658629298210144),\n",
              " ('xs', 0.6556370854377747),\n",
              " ('apples', 0.6460402011871338),\n",
              " ('ipod', 0.6354448795318604),\n",
              " ('ipads', 0.6268852949142456),\n",
              " ('xr', 0.5983282327651978),\n",
              " ('lbe', 0.5958917140960693)]"
            ]
          },
          "metadata": {
            "tags": []
          },
          "execution_count": 22
        }
      ]
    },
    {
      "cell_type": "code",
      "metadata": {
        "id": "LQGXMcMYRRFK",
        "outputId": "cbae4dc8-0d6e-4733-9360-d00d1edf7574",
        "colab": {
          "base_uri": "https://localhost:8080/",
          "height": 241
        }
      },
      "source": [
        "model_word.wv.most_similar(\"ipad\")"
      ],
      "execution_count": 23,
      "outputs": [
        {
          "output_type": "stream",
          "text": [
            "/usr/local/lib/python3.6/dist-packages/gensim/matutils.py:737: FutureWarning: Conversion of the second argument of issubdtype from `int` to `np.signedinteger` is deprecated. In future, it will be treated as `np.int64 == np.dtype(int).type`.\n",
            "  if np.issubdtype(vec.dtype, np.int):\n"
          ],
          "name": "stderr"
        },
        {
          "output_type": "execute_result",
          "data": {
            "text/plain": [
              "[('macbook', 0.8336524963378906),\n",
              " ('iphone', 0.7772069573402405),\n",
              " ('ipod', 0.7680411338806152),\n",
              " ('iphones', 0.7554835081100464),\n",
              " ('mac', 0.7476865649223328),\n",
              " ('ipados', 0.7464133501052856),\n",
              " ('airpods', 0.7427020072937012),\n",
              " ('touch', 0.7302615642547607),\n",
              " ('se', 0.7177237272262573),\n",
              " ('homepod', 0.6988859176635742)]"
            ]
          },
          "metadata": {
            "tags": []
          },
          "execution_count": 23
        }
      ]
    },
    {
      "cell_type": "code",
      "metadata": {
        "id": "xSAnSqQuRRFN",
        "outputId": "1e578d6e-439b-4655-f4a2-1b5da0f8faef",
        "colab": {
          "base_uri": "https://localhost:8080/",
          "height": 241
        }
      },
      "source": [
        "model_word.wv.most_similar(\"macbook\")"
      ],
      "execution_count": 24,
      "outputs": [
        {
          "output_type": "stream",
          "text": [
            "/usr/local/lib/python3.6/dist-packages/gensim/matutils.py:737: FutureWarning: Conversion of the second argument of issubdtype from `int` to `np.signedinteger` is deprecated. In future, it will be treated as `np.int64 == np.dtype(int).type`.\n",
            "  if np.issubdtype(vec.dtype, np.int):\n"
          ],
          "name": "stderr"
        },
        {
          "output_type": "execute_result",
          "data": {
            "text/plain": [
              "[('powerbeats', 0.855581521987915),\n",
              " ('ipad', 0.8336523771286011),\n",
              " ('imac', 0.804637610912323),\n",
              " ('p30', 0.7437822818756104),\n",
              " ('2018er', 0.7381508946418762),\n",
              " ('matepad', 0.7345247268676758),\n",
              " ('macbooks', 0.7298455238342285),\n",
              " ('einstiegsmodell', 0.7283972501754761),\n",
              " ('contra', 0.7137743830680847),\n",
              " ('xr', 0.7131432890892029)]"
            ]
          },
          "metadata": {
            "tags": []
          },
          "execution_count": 24
        }
      ]
    },
    {
      "cell_type": "code",
      "metadata": {
        "id": "aSnnWi8bRRFR",
        "outputId": "6c6f6f98-d5ed-423c-f0c4-62b680b3c060",
        "colab": {
          "base_uri": "https://localhost:8080/",
          "height": 123
        }
      },
      "source": [
        "model_word.wv.doesnt_match([\"apple\", \"microsoft\", \"google\", \"siemens\"])"
      ],
      "execution_count": 25,
      "outputs": [
        {
          "output_type": "stream",
          "text": [
            "/usr/local/lib/python3.6/dist-packages/gensim/models/keyedvectors.py:895: FutureWarning: arrays to stack must be passed as a \"sequence\" type such as list or tuple. Support for non-sequence iterables such as generators is deprecated as of NumPy 1.16 and will raise an error in the future.\n",
            "  vectors = vstack(self.word_vec(word, use_norm=True) for word in used_words).astype(REAL)\n",
            "/usr/local/lib/python3.6/dist-packages/gensim/matutils.py:737: FutureWarning: Conversion of the second argument of issubdtype from `int` to `np.signedinteger` is deprecated. In future, it will be treated as `np.int64 == np.dtype(int).type`.\n",
            "  if np.issubdtype(vec.dtype, np.int):\n"
          ],
          "name": "stderr"
        },
        {
          "output_type": "execute_result",
          "data": {
            "application/vnd.google.colaboratory.intrinsic+json": {
              "type": "string"
            },
            "text/plain": [
              "'siemens'"
            ]
          },
          "metadata": {
            "tags": []
          },
          "execution_count": 25
        }
      ]
    },
    {
      "cell_type": "code",
      "metadata": {
        "id": "AK_OS0AlRRFW",
        "outputId": "d367428d-f6d5-43c6-849c-671d436563c2",
        "colab": {
          "base_uri": "https://localhost:8080/",
          "height": 123
        }
      },
      "source": [
        "model_word.wv.doesnt_match([\"hund\", \"katze\", \"maus\", \"python\"])"
      ],
      "execution_count": 26,
      "outputs": [
        {
          "output_type": "stream",
          "text": [
            "/usr/local/lib/python3.6/dist-packages/gensim/models/keyedvectors.py:895: FutureWarning: arrays to stack must be passed as a \"sequence\" type such as list or tuple. Support for non-sequence iterables such as generators is deprecated as of NumPy 1.16 and will raise an error in the future.\n",
            "  vectors = vstack(self.word_vec(word, use_norm=True) for word in used_words).astype(REAL)\n",
            "/usr/local/lib/python3.6/dist-packages/gensim/matutils.py:737: FutureWarning: Conversion of the second argument of issubdtype from `int` to `np.signedinteger` is deprecated. In future, it will be treated as `np.int64 == np.dtype(int).type`.\n",
            "  if np.issubdtype(vec.dtype, np.int):\n"
          ],
          "name": "stderr"
        },
        {
          "output_type": "execute_result",
          "data": {
            "application/vnd.google.colaboratory.intrinsic+json": {
              "type": "string"
            },
            "text/plain": [
              "'python'"
            ]
          },
          "metadata": {
            "tags": []
          },
          "execution_count": 26
        }
      ]
    },
    {
      "cell_type": "markdown",
      "metadata": {
        "id": "YfB2yqi2RRFZ"
      },
      "source": [
        "Apple - ? = Microsoft - Windows\n",
        "\n",
        "Apple - Microsoft + Windows = ?"
      ]
    },
    {
      "cell_type": "code",
      "metadata": {
        "id": "LvUYdIlDRRFa",
        "outputId": "2312e47a-141f-4960-a8b0-e815f81060a7",
        "colab": {
          "base_uri": "https://localhost:8080/",
          "height": 139
        }
      },
      "source": [
        "model_word.wv.most_similar(positive=[\"apple\", \"windows\"], \n",
        "                                   negative=[\"microsoft\"],  topn=4)"
      ],
      "execution_count": 27,
      "outputs": [
        {
          "output_type": "stream",
          "text": [
            "/usr/local/lib/python3.6/dist-packages/gensim/matutils.py:737: FutureWarning: Conversion of the second argument of issubdtype from `int` to `np.signedinteger` is deprecated. In future, it will be treated as `np.int64 == np.dtype(int).type`.\n",
            "  if np.issubdtype(vec.dtype, np.int):\n"
          ],
          "name": "stderr"
        },
        {
          "output_type": "execute_result",
          "data": {
            "text/plain": [
              "[('ipad', 0.6880113482475281),\n",
              " ('iphone', 0.6671098470687866),\n",
              " ('ios', 0.6421608328819275),\n",
              " ('macos', 0.6420041918754578)]"
            ]
          },
          "metadata": {
            "tags": []
          },
          "execution_count": 27
        }
      ]
    },
    {
      "cell_type": "code",
      "metadata": {
        "id": "0A91pMxlRRFh",
        "outputId": "c86dfdea-66d2-4a04-b605-6548cef2cb94",
        "colab": {
          "base_uri": "https://localhost:8080/",
          "height": 139
        }
      },
      "source": [
        "model_word.wv.most_similar(positive=[\"microsoft\", \"iphone\"],\n",
        "                            negative=[\"apple\"], topn=4)"
      ],
      "execution_count": 28,
      "outputs": [
        {
          "output_type": "stream",
          "text": [
            "/usr/local/lib/python3.6/dist-packages/gensim/matutils.py:737: FutureWarning: Conversion of the second argument of issubdtype from `int` to `np.signedinteger` is deprecated. In future, it will be treated as `np.int64 == np.dtype(int).type`.\n",
            "  if np.issubdtype(vec.dtype, np.int):\n"
          ],
          "name": "stderr"
        },
        {
          "output_type": "execute_result",
          "data": {
            "text/plain": [
              "[('office', 0.6355632543563843),\n",
              " ('windows', 0.6341711282730103),\n",
              " ('support', 0.6214010715484619),\n",
              " ('betriebssystem', 0.6107650995254517)]"
            ]
          },
          "metadata": {
            "tags": []
          },
          "execution_count": 28
        }
      ]
    },
    {
      "cell_type": "code",
      "metadata": {
        "id": "EE2O5Rq3RRFj",
        "outputId": "2cafab8b-2987-4509-9f26-f43bdf3ed84a",
        "colab": {
          "base_uri": "https://localhost:8080/",
          "height": 139
        }
      },
      "source": [
        "model_word.wv.most_similar(positive=[\"android\", \"apple\"],\n",
        "                            negative=[\"iphone\"], topn=4)"
      ],
      "execution_count": 29,
      "outputs": [
        {
          "output_type": "stream",
          "text": [
            "/usr/local/lib/python3.6/dist-packages/gensim/matutils.py:737: FutureWarning: Conversion of the second argument of issubdtype from `int` to `np.signedinteger` is deprecated. In future, it will be treated as `np.int64 == np.dtype(int).type`.\n",
            "  if np.issubdtype(vec.dtype, np.int):\n"
          ],
          "name": "stderr"
        },
        {
          "output_type": "execute_result",
          "data": {
            "text/plain": [
              "[('google', 0.6546690464019775),\n",
              " ('microsoft', 0.6291525363922119),\n",
              " ('googles', 0.5922869443893433),\n",
              " ('play', 0.5914747714996338)]"
            ]
          },
          "metadata": {
            "tags": []
          },
          "execution_count": 29
        }
      ]
    },
    {
      "cell_type": "markdown",
      "metadata": {
        "id": "DbaO7eY8RRFm"
      },
      "source": [
        "### Phrasen"
      ]
    },
    {
      "cell_type": "code",
      "metadata": {
        "id": "Iz6uSCbLRRFm"
      },
      "source": [
        "from gensim.models import Phrases"
      ],
      "execution_count": 30,
      "outputs": []
    },
    {
      "cell_type": "code",
      "metadata": {
        "id": "Pc2TTFZQRRFp"
      },
      "source": [
        "entity_transformer = Phrases(texts)"
      ],
      "execution_count": 31,
      "outputs": []
    },
    {
      "cell_type": "code",
      "metadata": {
        "id": "cbdVX5VtRRFs",
        "outputId": "e44ee3ce-462e-47f0-f3bf-20aab73f5191",
        "colab": {
          "base_uri": "https://localhost:8080/",
          "height": 51
        }
      },
      "source": [
        "model_phrase = Word2Vec(entity_transformer[texts], min_count=5, workers=8)"
      ],
      "execution_count": 32,
      "outputs": [
        {
          "output_type": "stream",
          "text": [
            "/usr/local/lib/python3.6/dist-packages/gensim/models/phrases.py:598: UserWarning: For a faster implementation, use the gensim.models.phrases.Phraser class\n",
            "  warnings.warn(\"For a faster implementation, use the gensim.models.phrases.Phraser class\")\n"
          ],
          "name": "stderr"
        }
      ]
    },
    {
      "cell_type": "code",
      "metadata": {
        "id": "cxyw32TBRRFu",
        "outputId": "2504c20b-2104-436f-9fbe-cecb6a2f6e86",
        "colab": {
          "base_uri": "https://localhost:8080/",
          "height": 241
        }
      },
      "source": [
        "model_phrase.wv.most_similar(\"apple\")"
      ],
      "execution_count": 33,
      "outputs": [
        {
          "output_type": "stream",
          "text": [
            "/usr/local/lib/python3.6/dist-packages/gensim/matutils.py:737: FutureWarning: Conversion of the second argument of issubdtype from `int` to `np.signedinteger` is deprecated. In future, it will be treated as `np.int64 == np.dtype(int).type`.\n",
            "  if np.issubdtype(vec.dtype, np.int):\n"
          ],
          "name": "stderr"
        },
        {
          "output_type": "execute_result",
          "data": {
            "text/plain": [
              "[('apples', 0.8193793296813965),\n",
              " ('iphone', 0.767998218536377),\n",
              " ('das_unternehmen', 0.7449650168418884),\n",
              " ('konzern', 0.727474570274353),\n",
              " ('qualcomm', 0.7199925184249878),\n",
              " ('apple_pay', 0.6974214315414429),\n",
              " ('samsung', 0.6903120279312134),\n",
              " ('spotify', 0.6825749278068542),\n",
              " ('angeblich', 0.6784695386886597),\n",
              " ('hersteller', 0.6596424579620361)]"
            ]
          },
          "metadata": {
            "tags": []
          },
          "execution_count": 33
        }
      ]
    },
    {
      "cell_type": "code",
      "metadata": {
        "scrolled": true,
        "id": "V4Lfe9BORRFz",
        "outputId": "d95f8220-0958-4de1-e49b-1b4b920cb979",
        "colab": {
          "base_uri": "https://localhost:8080/",
          "height": 241
        }
      },
      "source": [
        "model_phrase.wv.most_similar(\"iphone\")"
      ],
      "execution_count": 34,
      "outputs": [
        {
          "output_type": "stream",
          "text": [
            "/usr/local/lib/python3.6/dist-packages/gensim/matutils.py:737: FutureWarning: Conversion of the second argument of issubdtype from `int` to `np.signedinteger` is deprecated. In future, it will be treated as `np.int64 == np.dtype(int).type`.\n",
            "  if np.issubdtype(vec.dtype, np.int):\n"
          ],
          "name": "stderr"
        },
        {
          "output_type": "execute_result",
          "data": {
            "text/plain": [
              "[('ipad', 0.852360725402832),\n",
              " ('iphones', 0.8074420690536499),\n",
              " ('apples', 0.7793833017349243),\n",
              " ('itunes', 0.7719288468360901),\n",
              " ('apple', 0.767998218536377),\n",
              " ('app_store', 0.7468429803848267),\n",
              " ('macs', 0.7446247935295105),\n",
              " ('smartphone', 0.7423650026321411),\n",
              " ('ios', 0.7343221306800842),\n",
              " ('siri', 0.7297263741493225)]"
            ]
          },
          "metadata": {
            "tags": []
          },
          "execution_count": 34
        }
      ]
    },
    {
      "cell_type": "code",
      "metadata": {
        "id": "fe2r5ClrRRF2",
        "outputId": "2a0c2471-4f4d-44ef-86af-f85d0a1ebf85",
        "colab": {
          "base_uri": "https://localhost:8080/",
          "height": 241
        }
      },
      "source": [
        "model_phrase.wv.most_similar(\"ipad\")"
      ],
      "execution_count": 35,
      "outputs": [
        {
          "output_type": "stream",
          "text": [
            "/usr/local/lib/python3.6/dist-packages/gensim/matutils.py:737: FutureWarning: Conversion of the second argument of issubdtype from `int` to `np.signedinteger` is deprecated. In future, it will be treated as `np.int64 == np.dtype(int).type`.\n",
            "  if np.issubdtype(vec.dtype, np.int):\n"
          ],
          "name": "stderr"
        },
        {
          "output_type": "execute_result",
          "data": {
            "text/plain": [
              "[('iphone', 0.8523608446121216),\n",
              " ('itunes', 0.8433439135551453),\n",
              " ('ios', 0.8427009582519531),\n",
              " ('ipados', 0.8338557481765747),\n",
              " ('apple_watch', 0.82839035987854),\n",
              " ('macs', 0.8205642700195312),\n",
              " ('apple_tv', 0.8189723491668701),\n",
              " ('home', 0.8117574453353882),\n",
              " ('ios_13', 0.8094501495361328),\n",
              " ('homepod', 0.808333158493042)]"
            ]
          },
          "metadata": {
            "tags": []
          },
          "execution_count": 35
        }
      ]
    },
    {
      "cell_type": "code",
      "metadata": {
        "scrolled": true,
        "id": "1EbF24FXRRF4",
        "outputId": "cc5e9d7b-a6bd-458e-de84-79782369a4b8",
        "colab": {
          "base_uri": "https://localhost:8080/",
          "height": 241
        }
      },
      "source": [
        "model_phrase.wv.most_similar(\"macbook\")"
      ],
      "execution_count": 36,
      "outputs": [
        {
          "output_type": "stream",
          "text": [
            "/usr/local/lib/python3.6/dist-packages/gensim/matutils.py:737: FutureWarning: Conversion of the second argument of issubdtype from `int` to `np.signedinteger` is deprecated. In future, it will be treated as `np.int64 == np.dtype(int).type`.\n",
            "  if np.issubdtype(vec.dtype, np.int):\n"
          ],
          "name": "stderr"
        },
        {
          "output_type": "execute_result",
          "data": {
            "text/plain": [
              "[('ipad_7', 0.9132460951805115),\n",
              " ('apple_arcade', 0.9037639498710632),\n",
              " ('iphone_x', 0.8974732160568237),\n",
              " ('ipad_pro', 0.8918949961662292),\n",
              " ('honor', 0.8856772780418396),\n",
              " ('homepod', 0.8837292194366455),\n",
              " ('axon_10', 0.8796002864837646),\n",
              " ('spitzenmodell', 0.8782423734664917),\n",
              " ('2019er', 0.8777965307235718),\n",
              " ('keyboard', 0.8717341423034668)]"
            ]
          },
          "metadata": {
            "tags": []
          },
          "execution_count": 36
        }
      ]
    },
    {
      "cell_type": "code",
      "metadata": {
        "id": "G8_HQcirRRF6",
        "outputId": "f6683cf6-71d2-4a26-99b5-f20172957a68",
        "colab": {
          "base_uri": "https://localhost:8080/",
          "height": 123
        }
      },
      "source": [
        "model_phrase.wv.doesnt_match([\"apple\", \"microsoft\", \"google\", \"siemens\"])"
      ],
      "execution_count": 37,
      "outputs": [
        {
          "output_type": "stream",
          "text": [
            "/usr/local/lib/python3.6/dist-packages/gensim/models/keyedvectors.py:895: FutureWarning: arrays to stack must be passed as a \"sequence\" type such as list or tuple. Support for non-sequence iterables such as generators is deprecated as of NumPy 1.16 and will raise an error in the future.\n",
            "  vectors = vstack(self.word_vec(word, use_norm=True) for word in used_words).astype(REAL)\n",
            "/usr/local/lib/python3.6/dist-packages/gensim/matutils.py:737: FutureWarning: Conversion of the second argument of issubdtype from `int` to `np.signedinteger` is deprecated. In future, it will be treated as `np.int64 == np.dtype(int).type`.\n",
            "  if np.issubdtype(vec.dtype, np.int):\n"
          ],
          "name": "stderr"
        },
        {
          "output_type": "execute_result",
          "data": {
            "application/vnd.google.colaboratory.intrinsic+json": {
              "type": "string"
            },
            "text/plain": [
              "'siemens'"
            ]
          },
          "metadata": {
            "tags": []
          },
          "execution_count": 37
        }
      ]
    },
    {
      "cell_type": "code",
      "metadata": {
        "id": "0gRzUTAZRRF-",
        "outputId": "6756fd5c-3f72-4b24-d2e9-abff11ff307f",
        "colab": {
          "base_uri": "https://localhost:8080/",
          "height": 123
        }
      },
      "source": [
        "model_phrase.wv.doesnt_match([\"hund\", \"katze\", \"maus\", \"python\"])"
      ],
      "execution_count": 38,
      "outputs": [
        {
          "output_type": "stream",
          "text": [
            "/usr/local/lib/python3.6/dist-packages/gensim/models/keyedvectors.py:895: FutureWarning: arrays to stack must be passed as a \"sequence\" type such as list or tuple. Support for non-sequence iterables such as generators is deprecated as of NumPy 1.16 and will raise an error in the future.\n",
            "  vectors = vstack(self.word_vec(word, use_norm=True) for word in used_words).astype(REAL)\n",
            "/usr/local/lib/python3.6/dist-packages/gensim/matutils.py:737: FutureWarning: Conversion of the second argument of issubdtype from `int` to `np.signedinteger` is deprecated. In future, it will be treated as `np.int64 == np.dtype(int).type`.\n",
            "  if np.issubdtype(vec.dtype, np.int):\n"
          ],
          "name": "stderr"
        },
        {
          "output_type": "execute_result",
          "data": {
            "application/vnd.google.colaboratory.intrinsic+json": {
              "type": "string"
            },
            "text/plain": [
              "'python'"
            ]
          },
          "metadata": {
            "tags": []
          },
          "execution_count": 38
        }
      ]
    },
    {
      "cell_type": "markdown",
      "metadata": {
        "id": "4a-_b32KRRGB"
      },
      "source": [
        "Apple - ? = Microsoft - Windows\n",
        "\n",
        "Apple - Microsoft + Windows = ?"
      ]
    },
    {
      "cell_type": "code",
      "metadata": {
        "id": "QY9rcleVRRGC",
        "outputId": "d05697a2-1918-4270-f3b5-5c49fd234293",
        "colab": {
          "base_uri": "https://localhost:8080/",
          "height": 241
        }
      },
      "source": [
        "model_phrase.wv.most_similar(positive=[\"apple\", \"windows\"], \n",
        "                                   negative=[\"microsoft\"],  topn=10)"
      ],
      "execution_count": 39,
      "outputs": [
        {
          "output_type": "stream",
          "text": [
            "/usr/local/lib/python3.6/dist-packages/gensim/matutils.py:737: FutureWarning: Conversion of the second argument of issubdtype from `int` to `np.signedinteger` is deprecated. In future, it will be treated as `np.int64 == np.dtype(int).type`.\n",
            "  if np.issubdtype(vec.dtype, np.int):\n"
          ],
          "name": "stderr"
        },
        {
          "output_type": "execute_result",
          "data": {
            "text/plain": [
              "[('ipad', 0.8085050582885742),\n",
              " ('iphone', 0.7722153663635254),\n",
              " ('apple_watch', 0.7692807912826538),\n",
              " ('ios', 0.726838231086731),\n",
              " ('macs', 0.7239227294921875),\n",
              " ('itunes', 0.7173039317131042),\n",
              " ('mac', 0.7146221399307251),\n",
              " ('apple_tv', 0.7112205028533936),\n",
              " ('iphones', 0.7045139074325562),\n",
              " ('homepod', 0.6998356580734253)]"
            ]
          },
          "metadata": {
            "tags": []
          },
          "execution_count": 39
        }
      ]
    },
    {
      "cell_type": "markdown",
      "metadata": {
        "id": "XC44hfw-RRGE"
      },
      "source": [
        "## fastText"
      ]
    },
    {
      "cell_type": "code",
      "metadata": {
        "id": "9KnNNu1MRRGE"
      },
      "source": [
        "from gensim.models import FastText"
      ],
      "execution_count": null,
      "outputs": []
    },
    {
      "cell_type": "code",
      "metadata": {
        "id": "7j3GZuvHRRGK"
      },
      "source": [
        "model_fast = FastText(texts, min_count=5, workers=8)"
      ],
      "execution_count": null,
      "outputs": []
    },
    {
      "cell_type": "code",
      "metadata": {
        "id": "8xBWlZ-yRRGT",
        "outputId": "8b19af8f-cfa5-42b7-92cf-88d102b4dbb1"
      },
      "source": [
        "model_fast.wv.most_similar(\"apple\", topn=4)"
      ],
      "execution_count": null,
      "outputs": [
        {
          "output_type": "execute_result",
          "data": {
            "text/plain": [
              "[('applecare', 0.95626300573349),\n",
              " ('apply', 0.9344683289527893),\n",
              " ('ripple', 0.9113011360168457),\n",
              " ('apples', 0.9108171463012695)]"
            ]
          },
          "metadata": {
            "tags": []
          },
          "execution_count": 41
        }
      ]
    },
    {
      "cell_type": "code",
      "metadata": {
        "id": "coXEz5a0RRGW",
        "outputId": "e079c5c4-dd8f-4d97-97f7-8c485f71edcb"
      },
      "source": [
        "model_fast.wv.most_similar(\"iphone\")"
      ],
      "execution_count": null,
      "outputs": [
        {
          "output_type": "execute_result",
          "data": {
            "text/plain": [
              "[('wiphone', 0.9659565091133118),\n",
              " ('phone', 0.9413676261901855),\n",
              " ('fairphone', 0.8999027013778687),\n",
              " ('iphones', 0.894962728023529),\n",
              " ('ipcc', 0.8394544124603271),\n",
              " ('ipc', 0.8318714499473572),\n",
              " ('ipv6', 0.8227308988571167),\n",
              " ('ipmi', 0.8009897470474243),\n",
              " ('symphony', 0.7873231172561646),\n",
              " ('ipad', 0.7813636064529419)]"
            ]
          },
          "metadata": {
            "tags": []
          },
          "execution_count": 42
        }
      ]
    },
    {
      "cell_type": "code",
      "metadata": {
        "id": "LHmfZFtQRRGa",
        "outputId": "9eec91a0-5ca4-443a-9087-c2416efb08c5"
      },
      "source": [
        "model_fast.wv.most_similar(\"ipad\")"
      ],
      "execution_count": null,
      "outputs": [
        {
          "output_type": "execute_result",
          "data": {
            "text/plain": [
              "[('ipads', 0.9310046434402466),\n",
              " ('ipados', 0.9187688231468201),\n",
              " ('ipc', 0.9123362302780151),\n",
              " ('ipod', 0.8925362825393677),\n",
              " ('iptv', 0.8664849400520325),\n",
              " ('ipmi', 0.8629794120788574),\n",
              " ('ipcc', 0.8623977899551392),\n",
              " ('pad', 0.8546111583709717),\n",
              " ('ipv6', 0.8480024337768555),\n",
              " ('touchpad', 0.8459989428520203)]"
            ]
          },
          "metadata": {
            "tags": []
          },
          "execution_count": 43
        }
      ]
    },
    {
      "cell_type": "code",
      "metadata": {
        "scrolled": true,
        "id": "B2ZXmBmoRRGe",
        "outputId": "99eccfd6-e623-49da-887c-0dd4a36a67c1"
      },
      "source": [
        "model_fast.wv.most_similar(\"macbook\")"
      ],
      "execution_count": null,
      "outputs": [
        {
          "output_type": "execute_result",
          "data": {
            "text/plain": [
              "[('macbooks', 0.9674311876296997),\n",
              " ('macro', 0.894782543182373),\n",
              " ('macs', 0.8648595809936523),\n",
              " ('mac', 0.8593849539756775),\n",
              " ('maciej', 0.847758412361145),\n",
              " ('macpro', 0.8463297486305237),\n",
              " ('macintosh', 0.8362990617752075),\n",
              " ('ipad', 0.8333460092544556),\n",
              " ('macau', 0.8294320106506348),\n",
              " ('ibook', 0.8205217123031616)]"
            ]
          },
          "metadata": {
            "tags": []
          },
          "execution_count": 44
        }
      ]
    },
    {
      "cell_type": "code",
      "metadata": {
        "id": "cnGXwfr0RRGk",
        "outputId": "411e0b08-339b-4706-8ca3-f870a70b4b3b"
      },
      "source": [
        "model_fast.wv.doesnt_match([\"apple\", \"microsoft\", \"google\", \"siemens\"])"
      ],
      "execution_count": null,
      "outputs": [
        {
          "output_type": "execute_result",
          "data": {
            "text/plain": [
              "'siemens'"
            ]
          },
          "metadata": {
            "tags": []
          },
          "execution_count": 45
        }
      ]
    },
    {
      "cell_type": "code",
      "metadata": {
        "id": "D0ObTjhNRRGn",
        "outputId": "e537c891-3ee0-435a-d487-97fe8dccd60a"
      },
      "source": [
        "model_fast.wv.doesnt_match([\"hund\", \"katze\", \"maus\", \"python\"])"
      ],
      "execution_count": null,
      "outputs": [
        {
          "output_type": "execute_result",
          "data": {
            "text/plain": [
              "'python'"
            ]
          },
          "metadata": {
            "tags": []
          },
          "execution_count": 46
        }
      ]
    },
    {
      "cell_type": "code",
      "metadata": {
        "id": "thHxhgyGRRGr",
        "outputId": "8aa455dd-e7c9-47e8-dc82-733878b22b00"
      },
      "source": [
        "model_fast.wv.most_similar(positive=[\"google\", \"windows\"], \n",
        "                                   negative=[\"microsoft\"],  topn=10)"
      ],
      "execution_count": null,
      "outputs": [
        {
          "output_type": "execute_result",
          "data": {
            "text/plain": [
              "[('android', 0.7076705694198608),\n",
              " ('ws', 0.7076213359832764),\n",
              " ('droid', 0.7052445411682129),\n",
              " ('androidx', 0.7035408020019531),\n",
              " ('odroid', 0.6929407715797424),\n",
              " ('window', 0.673803448677063),\n",
              " ('andromeda', 0.6619945168495178),\n",
              " ('kaios', 0.6515532732009888),\n",
              " ('vbios', 0.6453526020050049),\n",
              " ('ios', 0.645186722278595)]"
            ]
          },
          "metadata": {
            "tags": []
          },
          "execution_count": 47
        }
      ]
    },
    {
      "cell_type": "markdown",
      "metadata": {
        "id": "-NaVth_lRRGu"
      },
      "source": [
        "## gloVe"
      ]
    },
    {
      "cell_type": "code",
      "metadata": {
        "id": "zbRWLXDSSvhL"
      },
      "source": [
        "!wget https://datanizing.com/heise/glove-w2v.txt"
      ],
      "execution_count": null,
      "outputs": []
    },
    {
      "cell_type": "code",
      "metadata": {
        "id": "2hUqV4JxRRG2"
      },
      "source": [
        "from gensim.models import KeyedVectors\n",
        "glove = KeyedVectors.load_word2vec_format(\"glove-w2v.txt\")"
      ],
      "execution_count": null,
      "outputs": []
    },
    {
      "cell_type": "code",
      "metadata": {
        "id": "l9pgFIL-RRG-",
        "outputId": "c5f84c20-93d6-497a-cb45-1aa6f1bdf793"
      },
      "source": [
        "glove.most_similar(\"apple\", topn=4)"
      ],
      "execution_count": null,
      "outputs": [
        {
          "output_type": "execute_result",
          "data": {
            "text/plain": [
              "[('iphone', 0.8117432594299316),\n",
              " ('apples', 0.810858964920044),\n",
              " ('konzern', 0.7563344836235046),\n",
              " ('ipad', 0.6838310956954956)]"
            ]
          },
          "metadata": {
            "tags": []
          },
          "execution_count": 51
        }
      ]
    },
    {
      "cell_type": "code",
      "metadata": {
        "id": "lWoBhNYqRRHF",
        "outputId": "2f6a393c-7e45-4122-b2be-26535c0b88d9"
      },
      "source": [
        "glove.most_similar(\"iphone\")"
      ],
      "execution_count": null,
      "outputs": [
        {
          "output_type": "execute_result",
          "data": {
            "text/plain": [
              "[('apple', 0.8117432594299316),\n",
              " ('ipad', 0.807164192199707),\n",
              " ('xr', 0.7900763750076294),\n",
              " ('xs', 0.787955641746521),\n",
              " ('apples', 0.6737732887268066),\n",
              " ('webseite', 0.673195481300354),\n",
              " ('iphones', 0.66579669713974),\n",
              " ('max', 0.6585527658462524),\n",
              " ('ios', 0.6558831930160522),\n",
              " ('watch', 0.6531574726104736)]"
            ]
          },
          "metadata": {
            "tags": []
          },
          "execution_count": 52
        }
      ]
    },
    {
      "cell_type": "code",
      "metadata": {
        "id": "4DCG7wQDRRHK",
        "outputId": "4b0ce56d-6223-4229-92b1-ffb4a704a160"
      },
      "source": [
        "glove.most_similar(\"ipad\")"
      ],
      "execution_count": null,
      "outputs": [
        {
          "output_type": "execute_result",
          "data": {
            "text/plain": [
              "[('iphone', 0.807164192199707),\n",
              " ('mac', 0.7805591225624084),\n",
              " ('macbook', 0.7536984086036682),\n",
              " ('pro', 0.7314266562461853),\n",
              " ('ios', 0.7118662595748901),\n",
              " ('ipod', 0.7111266255378723),\n",
              " ('mini', 0.696607232093811),\n",
              " ('apple', 0.6838310956954956),\n",
              " ('touch', 0.667559802532196),\n",
              " ('xs', 0.6483808755874634)]"
            ]
          },
          "metadata": {
            "tags": []
          },
          "execution_count": 53
        }
      ]
    },
    {
      "cell_type": "code",
      "metadata": {
        "id": "3eYCED_vRRHT",
        "outputId": "91509eb0-ffed-4702-d31e-3d796a0bf599"
      },
      "source": [
        "glove.most_similar(\"macbook\")"
      ],
      "execution_count": null,
      "outputs": [
        {
          "output_type": "execute_result",
          "data": {
            "text/plain": [
              "[('air', 0.8195577263832092),\n",
              " ('ipad', 0.7536984086036682),\n",
              " ('imac', 0.7499493360519409),\n",
              " ('mini', 0.7339105606079102),\n",
              " ('angebote', 0.6395155787467957),\n",
              " ('befallen', 0.6369203329086304),\n",
              " ('pro', 0.6262161135673523),\n",
              " ('space', 0.6157272458076477),\n",
              " ('ipod', 0.605150043964386),\n",
              " ('i5', 0.5987260341644287)]"
            ]
          },
          "metadata": {
            "tags": []
          },
          "execution_count": 54
        }
      ]
    },
    {
      "cell_type": "code",
      "metadata": {
        "id": "XEIdR-PCRRHY",
        "outputId": "00b69804-2bcd-4e36-9867-025c5d9140d2"
      },
      "source": [
        "glove.most_similar(positive=[\"apple\", \"windows\"], \n",
        "                                   negative=[\"microsoft\"],  topn=10)"
      ],
      "execution_count": null,
      "outputs": [
        {
          "output_type": "execute_result",
          "data": {
            "text/plain": [
              "[('iphone', 0.8144985437393188),\n",
              " ('ipad', 0.7556824088096619),\n",
              " ('ios', 0.68784499168396),\n",
              " ('mac', 0.6829932332038879),\n",
              " ('11', 0.6680339574813843),\n",
              " ('macos', 0.651360034942627),\n",
              " ('pro', 0.6355828046798706),\n",
              " ('apps', 0.6341881155967712),\n",
              " ('10', 0.5995537638664246),\n",
              " ('apples', 0.5934982895851135)]"
            ]
          },
          "metadata": {
            "tags": []
          },
          "execution_count": 55
        }
      ]
    },
    {
      "cell_type": "code",
      "metadata": {
        "id": "4SDALpNuRRHh",
        "outputId": "29fe16f3-3f5d-44e1-f861-24a26f51be27"
      },
      "source": [
        "glove.most_similar(positive=[\"google\", \"iphone\"], \n",
        "                                   negative=[\"apple\"],  topn=10)"
      ],
      "execution_count": null,
      "outputs": [
        {
          "output_type": "execute_result",
          "data": {
            "text/plain": [
              "[('android', 0.7572494149208069),\n",
              " ('googles', 0.6442975401878357),\n",
              " ('handys', 0.6175686717033386),\n",
              " ('veröffentlichen', 0.6076589226722717),\n",
              " ('zu', 0.6073576807975769),\n",
              " ('smartphone', 0.6049378514289856),\n",
              " ('huawei', 0.5856303572654724),\n",
              " ('smartphones', 0.5854782462120056),\n",
              " ('handy', 0.5696602463722229),\n",
              " ('auf', 0.5694664120674133)]"
            ]
          },
          "metadata": {
            "tags": []
          },
          "execution_count": 56
        }
      ]
    },
    {
      "cell_type": "code",
      "metadata": {
        "scrolled": true,
        "id": "86IxPhekRRHk",
        "outputId": "626b5328-73b9-4d14-995b-08c0855d443d"
      },
      "source": [
        "glove.doesnt_match([\"apple\", \"microsoft\", \"google\", \"siemens\"])"
      ],
      "execution_count": null,
      "outputs": [
        {
          "output_type": "execute_result",
          "data": {
            "text/plain": [
              "'siemens'"
            ]
          },
          "metadata": {
            "tags": []
          },
          "execution_count": 57
        }
      ]
    },
    {
      "cell_type": "code",
      "metadata": {
        "id": "cEPeimq_RRHp",
        "outputId": "dc2f8f0a-9b30-4a5f-e3ef-f94c80399a4e"
      },
      "source": [
        "glove.doesnt_match([\"hund\", \"katze\", \"maus\", \"python\"])"
      ],
      "execution_count": null,
      "outputs": [
        {
          "output_type": "execute_result",
          "data": {
            "text/plain": [
              "'python'"
            ]
          },
          "metadata": {
            "tags": []
          },
          "execution_count": 58
        }
      ]
    },
    {
      "cell_type": "markdown",
      "metadata": {
        "id": "NBM81jPMRRHu"
      },
      "source": [
        "# Anwendungen"
      ]
    },
    {
      "cell_type": "markdown",
      "metadata": {
        "id": "pIedkL01RRHu"
      },
      "source": [
        "## Semantischer Graph"
      ]
    },
    {
      "cell_type": "code",
      "metadata": {
        "id": "Ugd-8hz9RRHv"
      },
      "source": [
        "import networkx as nx\n",
        "\n",
        "G = nx.Graph()\n",
        "e = model_word.wv\n",
        "w0 = \"apple\"\n",
        "G.add_node(w0)\n",
        "for (w1, p1) in e.most_similar(w0, topn=5):\n",
        "    G.add_node(w1)\n",
        "    G.add_edge(w0, w1, weight=p1 )\n",
        "    for (w2, p2) in e.most_similar(w1, topn=5):\n",
        "        G.add_node(w2)\n",
        "        G.add_edge(w1, w2, weight=p2 )\n",
        "        for (w3, p3) in e.most_similar(w2, topn=5):\n",
        "            G.add_node(w3)\n",
        "            G.add_edge(w2, w3, weight=p3 )"
      ],
      "execution_count": null,
      "outputs": []
    },
    {
      "cell_type": "code",
      "metadata": {
        "id": "UoaQZzGbRRHy",
        "outputId": "31e3739b-eda0-461d-fb4f-317572a61a97"
      },
      "source": [
        "import matplotlib.pyplot as plt\n",
        "plt.figure(figsize=(12,12))\n",
        "nx.draw(G, with_labels=True, pos=nx.spring_layout(G))"
      ],
      "execution_count": null,
      "outputs": [
        {
          "output_type": "stream",
          "text": [
            "/home/cwinkler/.venv/jupyter/lib/python3.8/site-packages/networkx/drawing/nx_pylab.py:579: MatplotlibDeprecationWarning: \n",
            "The iterable function was deprecated in Matplotlib 3.1 and will be removed in 3.3. Use np.iterable instead.\n",
            "  if not cb.iterable(width):\n"
          ],
          "name": "stderr"
        },
        {
          "output_type": "display_data",
          "data": {
            "image/png": "[encoded data removed]",
            "text/plain": [
              "<Figure size 864x864 with 1 Axes>"
            ]
          },
          "metadata": {
            "tags": []
          }
        }
      ]
    },
    {
      "cell_type": "code",
      "metadata": {
        "id": "DmDxQGhyRRH2"
      },
      "source": [
        "import networkx as nx\n",
        "\n",
        "G = nx.Graph()\n",
        "e = model_word.wv\n",
        "w0 = \"apple\"\n",
        "G.add_node(w0)\n",
        "for (w1, p1) in e.most_similar(w0, topn=10):\n",
        "    G.add_node(w1)\n",
        "    G.add_edge(w0, w1, weight=p1 )\n",
        "    for (w2, p2) in e.most_similar(w1, topn=10):\n",
        "        G.add_node(w2)\n",
        "        G.add_edge(w1, w2, weight=p2 )\n",
        "        for (w3, p3) in e.most_similar(w2, topn=10):\n",
        "            G.add_node(w3)\n",
        "            G.add_edge(w2, w3, weight=p3 )"
      ],
      "execution_count": null,
      "outputs": []
    },
    {
      "cell_type": "code",
      "metadata": {
        "id": "hFjWhVqKRRH5"
      },
      "source": [
        "nx.write_gexf(G, \"apple-w2v.gexf\")"
      ],
      "execution_count": null,
      "outputs": []
    },
    {
      "cell_type": "markdown",
      "metadata": {
        "id": "E8H8LtT8RRH7"
      },
      "source": [
        "## Semantische Karte"
      ]
    },
    {
      "cell_type": "code",
      "metadata": {
        "id": "2nNHzyT7RRH8"
      },
      "source": [
        "%matplotlib inline\n",
        "from sklearn.manifold import TSNE\n",
        "from sklearn.decomposition import PCA\n",
        "import matplotlib.pyplot as plt\n",
        "import umap.umap_ as umap \n"
      ],
      "execution_count": null,
      "outputs": []
    },
    {
      "cell_type": "code",
      "metadata": {
        "id": "6MfxHAnrRRH-"
      },
      "source": [
        "def plot_2d(vecs, labels, method, filename):\n",
        "    if method == \"tsne\":\n",
        "        tsne = TSNE(n_components=2, random_state=0).fit_transform(vecs)\n",
        "        df = pd.DataFrame(data = tsne, columns = [\"x\", \"y\"])\n",
        "    elif method == \"pca\":\n",
        "        pca = PCA(n_components=2, random_state=0).fit_transform(vecs.toarray())\n",
        "        df = pd.DataFrame(data = pca, columns = [\"x\", \"y\"])\n",
        "    else:\n",
        "        um = umap.UMAP(n_components=2, random_state=0).fit_transform(vecs)\n",
        "        df = pd.DataFrame(data = um, columns = [\"x\", \"y\"])\n",
        "    \n",
        "    plt.rcParams[\"figure.figsize\"] = (16, 9)\n",
        "    plt.style.use(\"seaborn-whitegrid\")\n",
        "    fig, ax = plt.subplots()\n",
        "    ax.scatter(df.x, df.y, marker=\"o\")\n",
        "\n",
        "    span = abs(max(df.x) - min(df.x))\n",
        "    diff = span/150.0\n",
        "    for i, txt in enumerate(labels):\n",
        "        fontsize = 10\n",
        "        ax.annotate(txt, (df.x[i]+diff, df.y[i]), fontsize=fontsize)\n",
        "    plt.xticks([], [])\n",
        "    plt.yticks([], [])\n",
        "    plt.savefig(f'{filename}.png')"
      ],
      "execution_count": null,
      "outputs": []
    },
    {
      "cell_type": "code",
      "metadata": {
        "id": "7Sh2JxuURRIA",
        "outputId": "f05da58e-eb15-4cda-cee0-0660fbfbca96"
      },
      "source": [
        "words = [\"apple\", \"ipad\",  \"ios\", \"iphone\", \"xs\", \"xr\",\n",
        "         \"mac\", \"macbook\", \"air\", \"osx\", \"macos\",\n",
        "         \"android\", \"google\", \"samsung\", \"galaxy\", \n",
        "         \"huawei\", \"mate\", \"honor\", \"htc\", \"lg\", \n",
        "         \"windows\", \"microsoft\", \"surface\",\n",
        "         \"laptop\", \"notebook\", \"smartphone\", \"tablet\",\n",
        "         \"app\", \"store\", \"play\", \"music\", \"itunes\",\n",
        "         \"netflix\", \"disney\", \"spotify\", \"streaming\"\n",
        "         \"amazon\", \"facebook\" ]\n",
        "vecs = []\n",
        "labels = []\n",
        "\n",
        "text = model_word.wv\n",
        "for w in words:\n",
        "    if w in text:\n",
        "        vecs.append(text[w])\n",
        "        labels.append(w)\n",
        "\n",
        "plot_2d(vecs, labels, 'umap', \"apple\")"
      ],
      "execution_count": null,
      "outputs": [
        {
          "output_type": "display_data",
          "data": {
            "image/png": "[encoded data removed]",
            "text/plain": [
              "<Figure size 1152x648 with 1 Axes>"
            ]
          },
          "metadata": {
            "tags": []
          }
        }
      ]
    },
    {
      "cell_type": "code",
      "metadata": {
        "id": "53pXA8DfRRIB"
      },
      "source": [
        ""
      ],
      "execution_count": null,
      "outputs": []
    },
    {
      "cell_type": "code",
      "metadata": {
        "id": "oMd8mVOhRRID"
      },
      "source": [
        ""
      ],
      "execution_count": null,
      "outputs": []
    }
  ]
}